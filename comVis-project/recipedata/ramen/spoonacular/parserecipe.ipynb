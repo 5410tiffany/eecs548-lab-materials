{
 "cells": [
  {
   "cell_type": "code",
   "execution_count": 4,
   "id": "2333d0f3",
   "metadata": {},
   "outputs": [],
   "source": [
    "import json\n",
    "import pandas as pd"
   ]
  },
  {
   "cell_type": "code",
   "execution_count": 9,
   "id": "9405dba4",
   "metadata": {},
   "outputs": [],
   "source": [
    "# read the recipe file\n",
    "jfile = \"ramen-recipe-157150.json\"   # replace this with the name of the file you want to parse\n",
    "with open(jfile) as json_file:\n",
    "    recipedata = json.load(json_file)"
   ]
  },
  {
   "cell_type": "code",
   "execution_count": 10,
   "id": "1d652640",
   "metadata": {},
   "outputs": [
    {
     "name": "stdout",
     "output_type": "stream",
     "text": [
      "recipe title: Chicken Ramen\n",
      "original source url: http://www.seriouseats.com/recipes/2013/10/chicken-ramen-dinner.html\n",
      "NOTE: recipe may not be at URL, you can probably search for title to try and find it\n"
     ]
    }
   ],
   "source": [
    "print(\"recipe title: \"+recipedata['title'])\n",
    "print(\"original source url: \"+recipedata['sourceUrl'])\n",
    "print(\"NOTE: recipe may not be at URL, you can probably search for title to try and find it\")"
   ]
  },
  {
   "cell_type": "code",
   "execution_count": 20,
   "id": "a3ecf64e",
   "metadata": {},
   "outputs": [
    {
     "name": "stdout",
     "output_type": "stream",
     "text": [
      "{'id': 10012023, 'aisle': 'Ethnic Foods;Spices and Seasonings', 'image': 'black-sesame-seeds-or-chia-seeds.png', 'consistency': 'SOLID', 'name': 'black sesame seeds', 'nameClean': 'black sesame seeds', 'original': 'Toasted white and black sesame seeds, coarse ground', 'originalName': 'Toasted white and black sesame seeds, coarse ground', 'amount': 6.0, 'unit': 'servings', 'meta': ['white', 'black', 'toasted'], 'measures': {'us': {'amount': 6.0, 'unitShort': 'servings', 'unitLong': 'servings'}, 'metric': {'amount': 6.0, 'unitShort': 'servings', 'unitLong': 'servings'}}}\n"
     ]
    }
   ],
   "source": [
    "# make a dataframe from the ingredients\n",
    "ingredients = []\n",
    "\n",
    "for ing in recipedata['extendedIngredients']:\n",
    "    ingName = ing['nameClean']\n",
    "    if (ingName == None):\n",
    "        ingName = ing['originalName']\n",
    "    amount = ing['amount']\n",
    "    unit = ing['unit']\n",
    "    # kcal = ing['kcal']\n",
    "    # calories = ing['calories']\n",
    "    # ingredients.append({'ingredient':ingName,'amount':amount,'unit':unit, 'calories':calories, 'kcal': kcal})\n",
    "    ingredients.append({'ingredient':ingName,'amount':amount,'unit':unit})\n",
    "    break\n",
    "\n",
    "print(ing)\n",
    "# df = pd.DataFrame(ingredients)\n",
    "# df"
   ]
  },
  {
   "cell_type": "code",
   "execution_count": 16,
   "id": "2a326260",
   "metadata": {},
   "outputs": [
    {
     "data": {
      "text/html": [
       "\n",
       "<div id=\"altair-viz-9bf908158af24e939612b0d77f624970\"></div>\n",
       "<script type=\"text/javascript\">\n",
       "  var VEGA_DEBUG = (typeof VEGA_DEBUG == \"undefined\") ? {} : VEGA_DEBUG;\n",
       "  (function(spec, embedOpt){\n",
       "    let outputDiv = document.currentScript.previousElementSibling;\n",
       "    if (outputDiv.id !== \"altair-viz-9bf908158af24e939612b0d77f624970\") {\n",
       "      outputDiv = document.getElementById(\"altair-viz-9bf908158af24e939612b0d77f624970\");\n",
       "    }\n",
       "    const paths = {\n",
       "      \"vega\": \"https://cdn.jsdelivr.net/npm//vega@5?noext\",\n",
       "      \"vega-lib\": \"https://cdn.jsdelivr.net/npm//vega-lib?noext\",\n",
       "      \"vega-lite\": \"https://cdn.jsdelivr.net/npm//vega-lite@4.17.0?noext\",\n",
       "      \"vega-embed\": \"https://cdn.jsdelivr.net/npm//vega-embed@6?noext\",\n",
       "    };\n",
       "\n",
       "    function maybeLoadScript(lib, version) {\n",
       "      var key = `${lib.replace(\"-\", \"\")}_version`;\n",
       "      return (VEGA_DEBUG[key] == version) ?\n",
       "        Promise.resolve(paths[lib]) :\n",
       "        new Promise(function(resolve, reject) {\n",
       "          var s = document.createElement('script');\n",
       "          document.getElementsByTagName(\"head\")[0].appendChild(s);\n",
       "          s.async = true;\n",
       "          s.onload = () => {\n",
       "            VEGA_DEBUG[key] = version;\n",
       "            return resolve(paths[lib]);\n",
       "          };\n",
       "          s.onerror = () => reject(`Error loading script: ${paths[lib]}`);\n",
       "          s.src = paths[lib];\n",
       "        });\n",
       "    }\n",
       "\n",
       "    function showError(err) {\n",
       "      outputDiv.innerHTML = `<div class=\"error\" style=\"color:red;\">${err}</div>`;\n",
       "      throw err;\n",
       "    }\n",
       "\n",
       "    function displayChart(vegaEmbed) {\n",
       "      vegaEmbed(outputDiv, spec, embedOpt)\n",
       "        .catch(err => showError(`Javascript Error: ${err.message}<br>This usually means there's a typo in your chart specification. See the javascript console for the full traceback.`));\n",
       "    }\n",
       "\n",
       "    if(typeof define === \"function\" && define.amd) {\n",
       "      requirejs.config({paths});\n",
       "      require([\"vega-embed\"], displayChart, err => showError(`Error loading script: ${err.message}`));\n",
       "    } else {\n",
       "      maybeLoadScript(\"vega\", \"5\")\n",
       "        .then(() => maybeLoadScript(\"vega-lite\", \"4.17.0\"))\n",
       "        .then(() => maybeLoadScript(\"vega-embed\", \"6\"))\n",
       "        .catch(showError)\n",
       "        .then(() => displayChart(vegaEmbed));\n",
       "    }\n",
       "  })({\"config\": {\"view\": {\"continuousWidth\": 400, \"continuousHeight\": 300}}, \"data\": {\"name\": \"data-ae914231d20e60a5a9ff4a855ed9fbf4\"}, \"mark\": \"arc\", \"encoding\": {\"color\": {\"field\": \"ingredient\", \"type\": \"nominal\"}, \"theta\": {\"field\": \"amount\", \"type\": \"quantitative\"}}, \"title\": \"Ingredients of Ramen\", \"$schema\": \"https://vega.github.io/schema/vega-lite/v4.17.0.json\", \"datasets\": {\"data-ae914231d20e60a5a9ff4a855ed9fbf4\": [{\"ingredient\": \"black sesame seeds\", \"amount\": 6.0, \"unit\": \"servings\"}, {\"ingredient\": \"chicken base\", \"amount\": 1.0, \"unit\": \"cubes\"}, {\"ingredient\": \"chicken feet\", \"amount\": 1.0, \"unit\": \"pound\"}, {\"ingredient\": \"chicken wings\", \"amount\": 4.0, \"unit\": \"pounds\"}, {\"ingredient\": \"egg\", \"amount\": 6.0, \"unit\": \"servings\"}, {\"ingredient\": \"shiitake mushrooms\", \"amount\": 6.0, \"unit\": \"ounces\"}, {\"ingredient\": \"garlic\", \"amount\": 8.0, \"unit\": \"cloves\"}, {\"ingredient\": \"ginger\", \"amount\": 2.0, \"unit\": \"inch\"}, {\"ingredient\": \"kelp\", \"amount\": 24.0, \"unit\": \"inch\"}, {\"ingredient\": \"kosher salt\", \"amount\": 6.0, \"unit\": \"servings\"}, {\"ingredient\": \"leek\", \"amount\": 2.0, \"unit\": \"\"}, {\"ingredient\": \"onion\", \"amount\": 1.0, \"unit\": \"\"}, {\"ingredient\": \"ramen noodles\", \"amount\": 6.0, \"unit\": \"servings\"}, {\"ingredient\": \"spring onions\", \"amount\": 2.0, \"unit\": \"bunches\"}, {\"ingredient\": \"sesame oil\", \"amount\": 6.0, \"unit\": \"servings\"}, {\"ingredient\": \"shallot\", \"amount\": 6.0, \"unit\": \"\"}, {\"ingredient\": \"vegetable oil\", \"amount\": 0.5, \"unit\": \"cup\"}]}}, {\"mode\": \"vega-lite\"});\n",
       "</script>"
      ],
      "text/plain": [
       "alt.Chart(...)"
      ]
     },
     "execution_count": 16,
     "metadata": {},
     "output_type": "execute_result"
    }
   ],
   "source": [
    "import altair as alt\n",
    "\n",
    "\n",
    "viz1 = alt.Chart(df).mark_arc().encode(\n",
    "    theta=alt.Theta(\"amount:Q\"),\n",
    "    color=alt.Color(\"ingredient:N\"),\n",
    ").properties(title='Ingredients of Ramen')\n",
    "viz1"
   ]
  },
  {
   "cell_type": "code",
   "execution_count": null,
   "id": "22b40ffd",
   "metadata": {},
   "outputs": [],
   "source": []
  }
 ],
 "metadata": {
  "kernelspec": {
   "display_name": "Python 3.10.4 ('si649')",
   "language": "python",
   "name": "python3"
  },
  "language_info": {
   "codemirror_mode": {
    "name": "ipython",
    "version": 3
   },
   "file_extension": ".py",
   "mimetype": "text/x-python",
   "name": "python",
   "nbconvert_exporter": "python",
   "pygments_lexer": "ipython3",
   "version": "3.10.4"
  },
  "vscode": {
   "interpreter": {
    "hash": "e58eda13d1772cd66d48dacddc78fa32459716ebbf76f0b18a3a8e4a44aedab2"
   }
  }
 },
 "nbformat": 4,
 "nbformat_minor": 5
}
