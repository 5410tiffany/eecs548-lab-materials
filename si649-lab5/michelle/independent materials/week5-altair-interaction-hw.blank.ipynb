{
 "cells": [
  {
   "cell_type": "markdown",
   "metadata": {
    "colab_type": "text",
    "id": "lg4L-qmfwykD"
   },
   "source": [
    "# SI649-21-FALL Lab 6 -> Altair III\n",
    "School of Information, University of Michigan\n",
    "\n",
    "\n",
    "## Assignment Overview\n",
    "1. Interaction \n",
    "2. Review transform \n",
    "3. Comparing streamlit widget and altair widget\n",
    "\n",
    "We will replicate 3 visualizations (and a bonus visualization) created by the article posted on [Five Thirty Eight](https://fivethirtyeight.com) available  [online](https://fivethirtyeight.com/features/the-mayweather-mcgregor-fight-as-told-through-emojis/) (Hickey, Koeze, Dottle, Wezerek 2017). \n",
    "\n",
    "**For this lab, please write Altair code to answer the questions. It's fine if your visualization looks slightly different from the example (e.g., getting 1.1 instead of 1.0, use orange instead of red, have different titles, chart width/height,and mark size/opacity)**\n",
    "\n",
    "### Resources:\n",
    "- Article by [Five Thirty Eight](https://fivethirtyeight.com) available  [online] (https://fivethirtyeight.com/features/the-mayweather-mcgregor-fight-as-told-through-emojis/) (Hickey, Koeze, Dottle, Wezerek 2017)  \n",
    "- the original can be found on [Five Thirty Eight Mayweather vs McGregor] (https://github.com/fivethirtyeight/data/tree/master/mayweather-mcgregor)\n",
    "\n",
    "### General Hints: \n",
    "* Yes, you can render emojis in colab/jupyter notebook and in your chart. You can consider them as text. \n",
    "* We recommend that you finish all the static charts before adding interactions. \n",
    "* If you see duplicated axes, use `axis=None` to get rid of unnecessary axes.  \n",
    "* Don't forget to set `empty=\"none\"`. The default behavior is that when nothing is selected, *everything* is selected. When set to none, empty selections contain no data values.  \n",
    "* `resolve_scale` ensures charts share axes and scales. \n"
   ]
  },
  {
   "cell_type": "markdown",
   "metadata": {},
   "source": [
    "## Export to streamlit \n",
    "\n",
    "Like last lab, we want you to build a streamlit app for these visualization. You will be adding your visualizations to a streamlit .py file when you’re done. You can either do it as you go or at the end.\n",
    "\n",
    "The app you build will have\n",
    "\n",
    "1. A title with your name \n",
    "2. A selectbox in the sidebar that navigates to different charts. \n",
    "3. For chart 3, we want you to implement the radio widget interaction in streamlit, and putting BOTH the altair version and the streamlit version in the app. \n",
    "4. (OPTIONAL BONUS) For chart 4, we also want to see both the altair version and the streamlit version. \n",
    "\n",
    "Your finished app will look like this:\n",
    "\n",
    "![alt text](https://raw.githubusercontent.com/eytanadar/si649public/master/lab6/hw/uncompressed_full_export.gif)\n"
   ]
  },
  {
   "cell_type": "code",
   "execution_count": null,
   "metadata": {
    "colab": {},
    "colab_type": "code",
    "id": "qwBVki-iwykM"
   },
   "outputs": [],
   "source": [
    "# start with the setup\n",
    "import pandas as pd\n",
    "import altair as alt\n",
    "import numpy as np\n",
    "import pprint\n"
   ]
  },
  {
   "cell_type": "code",
   "execution_count": null,
   "metadata": {
    "colab": {},
    "colab_type": "code",
    "id": "Jd65eJsBwykP"
   },
   "outputs": [],
   "source": [
    "#load data \n",
    "df1=pd.read_csv(\"https://raw.githubusercontent.com/eytanadar/si649public/master/lab6/hw/data/df1.csv\")\n",
    "df2=pd.read_csv(\"https://raw.githubusercontent.com/eytanadar/si649public/master/lab6/hw/data/df2_count.csv\")\n",
    "df3=pd.read_csv(\"https://raw.githubusercontent.com/eytanadar/si649public/master/lab6/hw/data/df3.csv\")\n",
    "df4=pd.read_csv(\"https://raw.githubusercontent.com/eytanadar/si649public/master/lab6/hw/data/df4.csv\")"
   ]
  },
  {
   "cell_type": "code",
   "execution_count": null,
   "metadata": {},
   "outputs": [],
   "source": [
    "# change the 'datetime' column to be explicitly a datetime object\n",
    "df2['datetime'] = pd.to_datetime(df2['datetime'])\n",
    "df3['datetime'] = pd.to_datetime(df3['datetime'])\n",
    "df4['datetime'] = pd.to_datetime(df4['datetime'])"
   ]
  },
  {
   "cell_type": "markdown",
   "metadata": {
    "colab_type": "text",
    "id": "3L6Ncgd1Csy-"
   },
   "source": [
    "## Visualization 1: Emoji and percentage of usage "
   ]
  },
  {
   "cell_type": "markdown",
   "metadata": {
    "colab_type": "text",
    "id": "Stjx8DV7C7oV"
   },
   "source": [
    "We will replicate the following visualization  \n",
    "![vis1_static](https://raw.githubusercontent.com/eytanadar/si649public/master/lab6/hw/vis1/static.png?raw=true)\n",
    "\n",
    "**Description of the visualization (static):**\n",
    "*   Use *df1* for this exercise\n",
    "*   This visualization has 3 components: **emoji**, **percentage text**, and **bars** \n",
    "*   All 3 components share the same y axis, which display the *rank* of percentage from highest to lowest. \n",
    "*   The width of the bar(along x axis) encodes *PERCENT*\n",
    "*   All 3 components have a low opacity because we want to add interactions (see the next cell). \n"
   ]
  },
  {
   "cell_type": "markdown",
   "metadata": {
    "colab_type": "text",
    "id": "Y4YUJ7X8EThT"
   },
   "source": [
    "**Description of the visualization (interactivity):**\n",
    "1. When hovering over bars, the associated emoji will show up as tooltip \n",
    "![alt text](https://raw.githubusercontent.com/eytanadar/si649public/master/lab6/hw/vis1/interactive_1.gif?raw=true)\n",
    "2. When hovering over emojis, percentage texts, or bars, the opacity of the selected row will change to 1. \n",
    "![alt text](https://raw.githubusercontent.com/eytanadar/si649public/master/lab6/hw/vis1/interactive_2.gif?raw=true)\n",
    "3. Brushing over the emojis will filter bars.\n",
    "![alt text](https://raw.githubusercontent.com/eytanadar/si649public/master/lab6/hw/vis1/interactive_3.gif?raw=true)\n",
    "4. Brushing over percentage text will filter bars.\n",
    "![alt text](https://raw.githubusercontent.com/eytanadar/si649public/master/lab6/hw/vis1/interactive_4.gif?raw=true)\n",
    "\n"
   ]
  },
  {
   "cell_type": "markdown",
   "metadata": {
    "colab_type": "text",
    "id": "Clq94x6QLIdX"
   },
   "source": [
    "**Sample style settings (optional):**\n",
    "Here's a list of default style settings we used to generate the graph.\n",
    "* Original opacity for all 3 components: 0.6. \n",
    "* Hovered opacity: 1\n",
    "* bar height = 15, color = orange\n",
    "* text chart and emoji width are both 20\n",
    "* after building the compound chart, use the following line to disable border : `.configure_view(strokeWidth=0)`\n",
    "\n"
   ]
  },
  {
   "cell_type": "markdown",
   "metadata": {
    "colab_type": "text",
    "id": "hBTgri54h9bT"
   },
   "source": [
    "Hint:\n",
    "* We recommend getting all static components working before writing any interactivity. \n",
    "* Add one interaction at a time and test whether or not it works. \n",
    "* To add an interaction that's not tooltip and zooming, you need four steps (review in-class demo). \n",
    "* Selection is used in two scenarios: 1) to add to a *condition*, which is used in `encode`. 2) to add in `transform_filter`. In this visualization, you will implement both. Think through which you will use where before trying to build this."
   ]
  },
  {
   "cell_type": "code",
   "execution_count": null,
   "metadata": {
    "colab": {
     "base_uri": "https://localhost:8080/",
     "height": 204
    },
    "colab_type": "code",
    "executionInfo": {
     "elapsed": 322,
     "status": "ok",
     "timestamp": 1581363529779,
     "user": {
      "displayName": "Matthew Kay",
      "photoUrl": "https://lh3.googleusercontent.com/a-/AAuE7mAdky9qVH46I_7lBPGqO4FSfJRCbiW_k8cFLOUN=s64",
      "userId": "07352650379952094636"
     },
     "user_tz": 300
    },
    "id": "d48wnQjpnHSL",
    "outputId": "7b591559-bb01-446b-beda-47d88364b337"
   },
   "outputs": [],
   "source": [
    "df1.head()"
   ]
  },
  {
   "cell_type": "code",
   "execution_count": null,
   "metadata": {
    "colab": {
     "base_uri": "https://localhost:8080/",
     "height": 1000
    },
    "colab_type": "code",
    "executionInfo": {
     "elapsed": 282,
     "status": "ok",
     "timestamp": 1581368957410,
     "user": {
      "displayName": "Matthew Kay",
      "photoUrl": "https://lh3.googleusercontent.com/a-/AAuE7mAdky9qVH46I_7lBPGqO4FSfJRCbiW_k8cFLOUN=s64",
      "userId": "07352650379952094636"
     },
     "user_tz": 300
    },
    "id": "Nu_lcwp78Fwe",
    "outputId": "b5e97f91-8083-4323-b252-8bdf7a526734"
   },
   "outputs": [],
   "source": [
    "##TODO: replicate vis 1 \n",
    "\n",
    "#Interaction requirement 2, change opacity when hover over \n",
    "\n",
    "#Interaction requirement 3 and 4, create brushing filter  \n",
    "\n",
    "##Static Component - Bars\n",
    "\n",
    "##Static Component - Emojis\n",
    "\n",
    "##Static Component - Text\n",
    "\n",
    "##Put all together"
   ]
  },
  {
   "cell_type": "markdown",
   "metadata": {
    "colab_type": "text",
    "id": "gq5Gjgyowykw"
   },
   "source": [
    "## Visualization 2: Irish Pride vs. Money Team "
   ]
  },
  {
   "cell_type": "markdown",
   "metadata": {
    "colab_type": "text",
    "id": "OyrxrmFELuCQ"
   },
   "source": [
    "We will replicate the following visualization  \n",
    "![vis2_static](https://raw.githubusercontent.com/eytanadar/si649public/master/lab6/hw/vis2/static.png?raw=true)\n",
    "\n",
    "**Description of the visualization (static):**\n",
    "*   Use *df2* \n",
    "*   The visualization has 1 \"static\" component: **line chart**. It displays the relationship between *datetime* and *count* \n"
   ]
  },
  {
   "cell_type": "markdown",
   "metadata": {
    "colab_type": "text",
    "id": "NJ_-pE9qO6RX"
   },
   "source": [
    "**Description of the visualization (interactivity):**\n",
    "1. Enable zooming and panning along the x-axis. (The gif below only displays the line chart.)\n",
    "![alt text](https://raw.githubusercontent.com/eytanadar/si649public/master/lab6/hw/vis2/interactive_1.gif?raw=true)\n",
    "2. Display a vertical line that moves with the mouse. This will require you to add additional chart component(let's call it **vLine**).\n",
    "![alt text](https://raw.githubusercontent.com/eytanadar/si649public/master/lab6/hw/vis2/interactive_2.gif?raw=true)\n",
    "3. Display the intersection of the **vLine** with the **line chart** as 2 circles (let's call these two circles **intersection dots**). \n",
    "![alt text](https://raw.githubusercontent.com/eytanadar/si649public/master/lab6/hw/vis2/interactive_3.gif?raw=true)\n",
    "4. When hovering over these **intersection dots**, display the *tweet_count*, *datetime*, and *team* in tooltip.  \n",
    "![alt text](https://raw.githubusercontent.com/eytanadar/si649public/master/lab6/hw/vis2/interactive_4.gif?raw=true)\n",
    "\n"
   ]
  },
  {
   "cell_type": "markdown",
   "metadata": {
    "colab_type": "text",
    "id": "KoJGK0oLO7Bl"
   },
   "source": [
    "**Sample style settings (optional):**\n",
    "Here's a list of default style settings we used to generate the graph.\n",
    "\n",
    "* line chart size = 2.5, \n",
    "* vLine: size=4, color=\"lightgray\", initial opacity = 0 \n",
    "* indicator dot:  color=\"black\" size=70"
   ]
  },
  {
   "cell_type": "markdown",
   "metadata": {
    "colab_type": "text",
    "id": "QDPTEumZViP7"
   },
   "source": [
    "**Bugs**\n",
    "\n",
    "If your interaction look similar to this, don't worry about it. It's likely a altair/colab issue. \n",
    "\n",
    "1. Blinking lines: You can fix by making your **vLine** thicker, or view it in vegalite editor. \n",
    "\n",
    "![alt text](https://github.com/LiciaHe/SI649/blob/master/week4/images/vis2/interactive_2_bug1.gif?raw=true)\n"
   ]
  },
  {
   "cell_type": "markdown",
   "metadata": {
    "colab_type": "text",
    "id": "vnH0ZNZ-jhOg"
   },
   "source": [
    "**Hint**\n",
    "\n",
    "\n",
    "* We only want to enable zooming and panning along the x-axis.\n",
    "*  There are multiple ways of implementing the **vLine**. Here is one of them: \n",
    "> 1) use mark_rule to generate a line for every single data point and set these line's opacity to be 0.\n",
    "\n",
    " > 2)when mouse hovering over a line, display it by changing its opacity. \n",
    "\n",
    "*  The implementation of the **intersection dots** is similar to that of the **vLine**. Do you need a new selection/condition for the **intersection dots**?\n",
    "\n",
    "\n"
   ]
  },
  {
   "cell_type": "code",
   "execution_count": null,
   "metadata": {
    "colab": {
     "base_uri": "https://localhost:8080/",
     "height": 352
    },
    "colab_type": "code",
    "executionInfo": {
     "elapsed": 1877,
     "status": "ok",
     "timestamp": 1581093009085,
     "user": {
      "displayName": "Shiqing (Licia) He",
      "photoUrl": "https://lh3.googleusercontent.com/a-/AAuE7mCJxAelrpcgBANpLNYl7jHbfJVhnk621_KLm7fInA=s64",
      "userId": "10870840754198798102"
     },
     "user_tz": 300
    },
    "id": "PJ0BNAJKoDNv",
    "outputId": "71014b21-30f3-4731-f7e5-95da57b0c290"
   },
   "outputs": [],
   "source": [
    "#TODO: replicate vis2\n",
    "\n",
    "#Zooming and Panning\n",
    "\n",
    "#vertical line\n",
    "\n",
    "#interaction dots\n",
    "\n",
    "#Static component line chart\n",
    "\n",
    "#Put all together"
   ]
  },
  {
   "cell_type": "markdown",
   "metadata": {
    "colab_type": "text",
    "id": "2oaNahO9Xdsg"
   },
   "source": [
    "## Visualization 3: Much hype, more boredom"
   ]
  },
  {
   "cell_type": "markdown",
   "metadata": {
    "colab_type": "text",
    "id": "GnisDhCjXqLB"
   },
   "source": [
    "We will replicate the following visualization  \n",
    "![vis3_static](https://raw.githubusercontent.com/eytanadar/si649public/master/lab6/hw/vis3/static.png?raw=true)\n",
    "\n",
    "**Description of the visualization (static):**\n",
    "*   Use *df3*\n",
    "*   The visualization has 1 component: **line chart**. It displays the relationship between *datetime* and *tweet_count*. Each line represents one emoji. "
   ]
  },
  {
   "cell_type": "markdown",
   "metadata": {
    "colab_type": "text",
    "id": "Yc9O5s5PYWqT"
   },
   "source": [
    "**Description of the visualization (interactivity):**\n",
    "1. Build radio selections for emojis. Theoretically, only one line will be shown at any given time. See the \"bug\" section for more detail.\n",
    "![alt text](https://raw.githubusercontent.com/eytanadar/si649public/master/lab6/hw/vis3/interactive_1.gif?raw=true)\n",
    "2. Brushing over line chart will display individual data points as circles. This will require another chart component, let's call this component **circles**.  \n",
    "![alt text](https://raw.githubusercontent.com/eytanadar/si649public/master/lab6/hw/vis3/interactive_2.gif?raw=true)\n",
    "\n"
   ]
  },
  {
   "cell_type": "markdown",
   "metadata": {
    "colab_type": "text",
    "id": "MtI266eHcCvu"
   },
   "source": [
    "**Sample style settings (optional):**\n",
    "Here's a list of default style settings we used to generate the graph.\n",
    "\n",
    "* **circles**: color=\"black\",opacity=0.7 \n",
    "* For both x and y axis, we have the following tickCount specified\n",
    "> axis=alt.Axis(tickCount=5,...) \n",
    "\n"
   ]
  },
  {
   "cell_type": "markdown",
   "metadata": {
    "colab_type": "text",
    "id": "IKQ1m4QSfAtC"
   },
   "source": [
    "**Bugs**\n",
    "\n",
    "If your interaction look similar to this, don't worry about it. It's likely a altair/colab issue. \n",
    "\n",
    "1. single click reset selection even when *clear=False*. This is likely a colab issue, because the chart will behave correctly in vega-editor. You can ignore this bug or view it in vegalite online editor. \n",
    "\n",
    "![alt text](https://raw.githubusercontent.com/eytanadar/si649public/master/lab6/hw/vis3/interactive_2_bug.gif?raw=true)"
   ]
  },
  {
   "cell_type": "markdown",
   "metadata": {
    "colab_type": "text",
    "id": "GzuQJSw1lX4y"
   },
   "source": [
    "**Hint**\n",
    "\n",
    "* You will have 2 selections. One for the emoji selection and one for the time selection. Ensure that these two interactions work independently before merging them together. \n",
    "\n",
    "* You can use multiple transform_filter, or use logical operand to chain multiple selections. "
   ]
  },
  {
   "cell_type": "code",
   "execution_count": null,
   "metadata": {
    "colab": {
     "base_uri": "https://localhost:8080/",
     "height": 373
    },
    "colab_type": "code",
    "executionInfo": {
     "elapsed": 357,
     "status": "ok",
     "timestamp": 1581365279780,
     "user": {
      "displayName": "Matthew Kay",
      "photoUrl": "https://lh3.googleusercontent.com/a-/AAuE7mAdky9qVH46I_7lBPGqO4FSfJRCbiW_k8cFLOUN=s64",
      "userId": "07352650379952094636"
     },
     "user_tz": 300
    },
    "id": "Vc1HxSm3x9Fr",
    "outputId": "0f640430-be8b-4c19-889a-f3db43810002"
   },
   "outputs": [],
   "source": [
    "##TODO: replicate vis3\n"
   ]
  },
  {
   "cell_type": "markdown",
   "metadata": {
    "colab_type": "text",
    "id": "GzuQJSw1lX4y"
   },
   "source": [
    "**Comparing Altair Widget with Streamlit Widget**\n",
    "\n",
    "* We want you to compare the altair radio selection with the streamlit radio select widget. \n",
    "* You should have two versions of vis 3 on your streamlit app to compare these. The first one will be using the altair radio selection that you have just created. The second one should use a streamlit widget to create radio buttons to switch between the two graphs.\n",
    "* Put both of these visualizations on the Vis 3 page. See the gif below for an example of what both of these graphs should look like.\n",
    "\n",
    "Your vis 3 export will look like this:\n",
    "![alt text](https://raw.githubusercontent.com/eytanadar/si649public/master/lab6/hw/vis3/full_export.gif)"
   ]
  },
  {
   "cell_type": "markdown",
   "metadata": {
    "colab_type": "text",
    "id": "MPlD75YwwylA"
   },
   "source": [
    "## BONUS: Visualization 4: Tears were shed-of joy and sorrow"
   ]
  },
  {
   "cell_type": "markdown",
   "metadata": {
    "colab_type": "text",
    "id": "9lf9mwqUgGQ7"
   },
   "source": [
    "OPTIONAL:\n",
    "We will replicate the following visualization  \n",
    "![vis4_static](https://raw.githubusercontent.com/eytanadar/si649public/master/lab6/hw/vis4/static.png?raw=true)\n",
    "\n",
    "**Description of the visualization (static):**\n",
    "*   Use *df4*\n",
    "*   The visualization has 2 components: **line chart** that displays relationship between *datetime* and *tweet_count*, and **legend** that displays the two emojis in the line chart.  \n",
    "*   **legend** is a chart. It is not the automatically generated legend. (i.e., In the line chart's color encoding, set *legend=None*)\n",
    "*   Two components are displayed side by side "
   ]
  },
  {
   "cell_type": "markdown",
   "metadata": {
    "colab_type": "text",
    "id": "CofxA1QjhS03"
   },
   "source": [
    "**Description of the visualization (interactivity):**\n",
    "1. In the legend component, if one of the emoji is clicked, the selected emoji will have full opacity while the other emoji becomes transparent. \n",
    "![alt text](https://raw.githubusercontent.com/eytanadar/si649public/master/lab6/hw/vis4/interactive_1.gif?raw=true)\n",
    "2.  Clicking emojis in the **legend** component will display the corresponding line and hide the other line . \n",
    "![alt text](https://raw.githubusercontent.com/eytanadar/si649public/master/lab6/hw/vis4/interactive_2.gif?raw=true)"
   ]
  },
  {
   "cell_type": "markdown",
   "metadata": {
    "colab_type": "text",
    "id": "BdDDYy65inQm"
   },
   "source": [
    "**Sample style settings (optional):**\n",
    "Here's a list of default style settings we used to generate the graph.\n",
    "* For the line chart, we used tickCount=5 in x and y axis.  \n",
    "* For the legend, we used size=25,strokeWidth=0"
   ]
  },
  {
   "cell_type": "markdown",
   "metadata": {
    "colab_type": "text",
    "id": "lqS6dNgsoiqf"
   },
   "source": [
    "**Hint**\n",
    "\n",
    "* You can have one selection and multiple conditions that use the same selection. \n",
    "* To hide a line, you have 2 options: changing opacity and adding transform_filter. In this chart, we want you to practice the 1st option (changing opacity). Using this method, your x- and y-axis will have a consistent scale.  "
   ]
  },
  {
   "cell_type": "code",
   "execution_count": null,
   "metadata": {
    "colab": {
     "base_uri": "https://localhost:8080/",
     "height": 372
    },
    "colab_type": "code",
    "executionInfo": {
     "elapsed": 2177,
     "status": "ok",
     "timestamp": 1581093009587,
     "user": {
      "displayName": "Shiqing (Licia) He",
      "photoUrl": "https://lh3.googleusercontent.com/a-/AAuE7mCJxAelrpcgBANpLNYl7jHbfJVhnk621_KLm7fInA=s64",
      "userId": "10870840754198798102"
     },
     "user_tz": 300
    },
    "id": "OL3I687r33P-",
    "outputId": "26c6b926-125c-46a8-d1fe-e6e3a1681953"
   },
   "outputs": [],
   "source": [
    "#TODO: BONUS: Replicate vis 4\n"
   ]
  },
  {
   "cell_type": "markdown",
   "metadata": {
    "colab_type": "text",
    "id": "GzuQJSw1lX4y"
   },
   "source": [
    "**Comparing Altair Widget with Streamlit Widget**\n",
    "\n",
    "* We want you to compare the altair radio selection with the streamlit radio select widget for vis 4 as well. \n",
    "* You should have two versions of vis 4 on your streamlit app to compare these. The first one will be using the altair radio selection that you have just created. The second one should use a streamlit widget to create radio buttons to switch between the two graphs.\n",
    "* Put both of these visualizations on the Vis 3 page. See the gif below for an example of what both of these graphs should look like.\n",
    "\n",
    "Your vis 4 export will look like this:\n",
    "![alt text](https://raw.githubusercontent.com/eytanadar/si649public/master/lab6/hw/vis4/full_export.gif)"
   ]
  },
  {
   "cell_type": "markdown",
   "metadata": {
    "colab_type": "text",
    "id": "H5tiPGTwjJGJ"
   },
   "source": [
    "*This is the end of the lab*. \n",
    "\n",
    "\n",
    "Please run all cells (Runtime->Restart and run all), and \n",
    "1.  save to PDF (File->Print->Save PDF -> landscape, shrink to 80%)\n",
    "2.  save to ipynb (File -> Download .ipynb)\n",
    "\n",
    "Rename both files with your uniqname: e.g. uniqname.pdf/ uniqname.ipynb\n",
    "\n",
    "Upload both files to canvas. \n",
    "\n",
    "\n"
   ]
  }
 ],
 "metadata": {
  "celltoolbar": "Create Assignment",
  "colab": {
   "collapsed_sections": [],
   "name": "Copy of si649f19 lab4_hw_answer_ver.ipynb",
   "provenance": [
    {
     "file_id": "1HKNt5NHKXmoA6IQJfWCJkiHQ2M1jgfBZ",
     "timestamp": 1569290438615
    },
    {
     "file_id": "1lauwZmiryXTXFo_nVSRj9S3fSvNRNRPj",
     "timestamp": 1569270936763
    }
   ]
  },
  "kernelspec": {
   "display_name": "Python 3 (ipykernel)",
   "language": "python",
   "name": "python3"
  },
  "language_info": {
   "codemirror_mode": {
    "name": "ipython",
    "version": 3
   },
   "file_extension": ".py",
   "mimetype": "text/x-python",
   "name": "python",
   "nbconvert_exporter": "python",
   "pygments_lexer": "ipython3",
   "version": "3.9.6"
  },
  "toc": {
   "colors": {
    "hover_highlight": "#DAA520",
    "running_highlight": "#FF0000",
    "selected_highlight": "#FFD700"
   },
   "moveMenuLeft": true,
   "nav_menu": {
    "height": "300px",
    "width": "252px"
   },
   "navigate_menu": true,
   "number_sections": false,
   "sideBar": false,
   "threshold": 4,
   "toc_cell": false,
   "toc_position": {
    "height": "259px",
    "left": "1px",
    "right": "20px",
    "top": "110px",
    "width": "212px"
   },
   "toc_section_display": "none",
   "toc_window_display": true,
   "widenNotebook": false
  }
 },
 "nbformat": 4,
 "nbformat_minor": 1
}
