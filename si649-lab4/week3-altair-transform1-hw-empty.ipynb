{
 "cells": [
  {
   "cell_type": "markdown",
   "metadata": {
    "colab_type": "text",
    "id": "lgTDVS2aO9lh"
   },
   "source": [
    "# SI649-22-Fall Lab 4 -> Altair Transformation\n",
    "## Overview \n",
    "We will work with a dataset from the article [\"Joining The Avengers Is As Deadly As Jumping Off A Four-Story Building\"](https://fivethirtyeight.com/features/avengers-death-comics-age-of-ultron/). We'll focus on **transformation**. In this lab, you will practice:\n",
    "\n",
    "1.   transform_calculation\n",
    "2.   transform_aggregate\n",
    "3.   transform_join_aggregate\n",
    "4.   transform_window\n",
    "5.   transform_filter\n",
    "5.   exporting to HTML\n",
    "\n",
    "\n",
    "## Data\n",
    "The source data is available at this [link](https://github.com/fivethirtyeight/data/tree/master/avengers). You can also find a description of each column on the website. We preprocessed the dataset for you, and you do not need to write any data processing code. \n",
    "\n",
    "**For this lab, please write Altair code to answer the questions. In many situations, you could also solve the problem using Pandas. However, we want code that can be deployed without using pandas, so it's better to practice to just do as much as we can in Altair. You can complete the entire lab without writing any pandas transformation.**\n",
    "\n",
    "It's fine if your visualization looks slightly different from the example (e.g., getting 1.1 instead of 1.0, use orange instead of red)\n",
    "\n",
    "### Lab Instructions (read the full version on the handout of the previous lab)\n",
    "\n",
    "*   Save, rename, and submit the ipynb file (use your uniqname in the name).\n",
    "*   Run every cell (do Runtime -> Restart and run all to make sure you have a clean working version), print to pdf, submit the pdf file. \n",
    "*   For each visualization, we will ask you to write down a \"Grammar of Graphics\" plan first (basically a description of what you'll code).\n",
    "*   If you end up stuck, show us your work by including links (URLs) that you have searched for. You'll get partial credit for showing your work in progress.\n",
    "\n",
    "\n",
    "\n",
    " \n"
   ]
  },
  {
   "cell_type": "code",
   "execution_count": null,
   "metadata": {
    "colab": {},
    "colab_type": "code",
    "id": "uswUD0ez_1a8"
   },
   "outputs": [],
   "source": [
    "# imports we will use\n",
    "import altair as alt\n",
    "import pandas as pd"
   ]
  },
  {
   "cell_type": "code",
   "execution_count": null,
   "metadata": {
    "colab": {},
    "colab_type": "code",
    "id": "Jz47xXfgDQHY"
   },
   "outputs": [],
   "source": [
    "#obtain the data and process the data \n",
    "# you do not need to edit this block, just run it\n",
    "# and use avenger_df as your starting point  \n",
    "avenger_link=\"https://raw.githubusercontent.com/fivethirtyeight/data/master/avengers/avengers.csv\"\n",
    "avenger_return=pd.read_csv(avenger_link,encoding=\"latin-1\")\n",
    "articleLink=\"https://fivethirtyeight.com/features/avengers-death-comics-age-of-ultron/\"\n",
    "#process the dataset \n",
    "convertColumnList=[]\n",
    "modified=[]\n",
    "for i in range(5):\n",
    "  convertColumnList.append(\"Death\"+str(i+1))\n",
    "  convertColumnList.append(\"Return\"+str(i+1))\n",
    "\n",
    "for c in convertColumnList:\n",
    "  avenger_return[c]=avenger_return[c].astype(str)\n",
    "\n",
    "for j in range(len(avenger_return)):\n",
    "  modified.append([])\n",
    "  storage=modified[-1]\n",
    "  for c in convertColumnList:\n",
    "    item=avenger_return[c][j]\n",
    "    v = 1 if item==\"YES\" else 0\n",
    "    storage.append(v)\n",
    "\n",
    "organizedDR=pd.DataFrame(modified,columns=convertColumnList)\n",
    "shortlist=avenger_return.drop(columns=convertColumnList)\n",
    "avenger_df=shortlist.join(organizedDR)"
   ]
  },
  {
   "cell_type": "code",
   "execution_count": null,
   "metadata": {
    "colab": {
     "base_uri": "https://localhost:8080/",
     "height": 177
    },
    "colab_type": "code",
    "id": "O4GIw1wNCyhS",
    "outputId": "e06b79cb-a6aa-4729-e4b7-51ffae667de2"
   },
   "outputs": [],
   "source": [
    "# you can set to whatever theme you prefer. \n",
    "alt.themes.enable('fivethirtyeight')\n",
    "avenger_df.sample(2)"
   ]
  },
  {
   "cell_type": "markdown",
   "metadata": {
    "colab_type": "text",
    "id": "hN-s1alhTyd_"
   },
   "source": [
    "## Visualization 1: Top 30 avengers who have been in the series for the longest time "
   ]
  },
  {
   "cell_type": "markdown",
   "metadata": {
    "colab_type": "text",
    "id": "nhyqUwMmTu3H"
   },
   "source": [
    "![vis1](https://raw.githubusercontent.com/eytanadar/si649public/master/lab4/assets/hw/vis1/1.png)\n",
    "\n",
    "**Description of the visualization:**\n",
    "\n",
    "We want to find avengers who hae been in the series for the longest time. We'd like to build a bar chart with the top 30 avengers ranked by their years since join. \n",
    "\n",
    "* The number of years that they have been in the series (column \"Years since joined\") is plotted on the X axis\n",
    "* The avenger's name is displayed on the y axis \n",
    "* Only the top 30 avengers are included in the chart"
   ]
  },
  {
   "cell_type": "markdown",
   "metadata": {
    "colab_type": "text",
    "id": "xu75Tym8X2mT"
   },
   "source": [
    "### Step 1: Write down your plan for the visualization (edit this cell)\n",
    "\n",
    "*   Data Name: \n",
    "*   mark type: *TODO:write your answer here (e.g., point or area)*\n",
    "*   Encoding Specification:  \n",
    "*   > x:*TODO:write your answer here (x? y? N? Q? O?)*\n",
    "*   > y: *TODO:write your answer here (x? y? N? Q? O?)*\n",
    "*   Transformation Plan:\n",
    "*   > step 1:*TODO:write your answer here (e.g., I will produce value X by transformation Y)*\n",
    "*   > step 2:*TODO:write your answer here (e.g., I will produce value X by transformation Y)*\n",
    "*   > ... add as many steps as you need"
   ]
  },
  {
   "cell_type": "markdown",
   "metadata": {
    "colab_type": "text",
    "id": "JoW96DRTY5Ds"
   },
   "source": [
    "#### Hint\n",
    "* You need to rank avengers by the number of years they have joined. Review our lab demo and the altair documentation. Which transformation can generate the rank?\n",
    "\n",
    "* Because we only want to include the top 30 avengers, which transformation can we use?\n",
    "\n",
    "* Adding tooltips can be a helpful way to check if your calculation is correct. \n",
    "\n",
    "* (The last two avengers tie in 30th place, so technically this visualization has 31 Avengers)"
   ]
  },
  {
   "cell_type": "markdown",
   "metadata": {
    "colab_type": "text",
    "id": "yNykD-CkYjE6"
   },
   "source": [
    "### Step 2: Create your chart. \n",
    "Please paste your FINAL answer to the cell immediately blow this block (it will allow us to grade). You can search for the keyword \"TODO\" to locate cells that need your edits\n"
   ]
  },
  {
   "cell_type": "code",
   "execution_count": null,
   "metadata": {
    "colab": {
     "base_uri": "https://localhost:8080/",
     "height": 478
    },
    "colab_type": "code",
    "id": "F2TSNZtwEBUC",
    "outputId": "d905e749-5b25-43e9-8c92-92726fc3189c"
   },
   "outputs": [],
   "source": [
    "# TODO: (vis1) top 30 avengers who have been in the series for the longest time \n"
   ]
  },
  {
   "cell_type": "markdown",
   "metadata": {
    "colab_type": "text",
    "id": "U-nYN1EEcZP3"
   },
   "source": [
    "## Visualization 2: Count of avengers who return from their first death"
   ]
  },
  {
   "cell_type": "markdown",
   "metadata": {
    "colab_type": "text",
    "id": "Tc_jyo6laDjN"
   },
   "source": [
    "![vis1](https://raw.githubusercontent.com/eytanadar/si649public/master/lab4/assets/hw/vis2/1.png)\n",
    "\n",
    "\n",
    "**Description of the data:**\n",
    "We want to count the number of avengers who have returned from their first death. We have processed the data so that for every Death/Return column:\n",
    "\n",
    "* 0 indicate that they did not die or did not return \n",
    "* 1 indicate that they died or returned\n",
    "  * e.g., if an avenger died at least once and did not return, their data looks like this:(Death1=1, Return1=0) \n",
    "  * e.g., if an avenger did not die twice (Death2==0), then they could not have returned twice (Return2==0)\n",
    "\n",
    "**Description of the visualization:**\n",
    "*  a bar chart\n",
    "*  y-axis plot the total number of avengers who have returned within an \"age  group\" \n",
    "*  x-axis plot the \"age group\": number of years since they have joined.\n",
    "* y-axis uses the label: *number of avengers who have returned from their first death*"
   ]
  },
  {
   "cell_type": "markdown",
   "metadata": {
    "colab_type": "text",
    "id": "FOIkms4IfA2S"
   },
   "source": [
    "### Step 1: Write down your plan for the visualization (edit this cell)\n",
    "\n",
    "*   Data Name: \n",
    "*   mark type: *TODO:write your answer here (e.g., point or area)*\n",
    "*   Encoding Specification:  \n",
    "*   > x:*TODO:write your answer here (x? y? N? Q? O?)*\n",
    "*   > y: *TODO:write your answer here (x? y? N? Q? O?)*\n",
    "*   Transformation Plan:\n",
    "*   > step 1:*TODO:write your answer here (e.g., I will produce value X by transformation Y)*\n",
    "*   > step 2:*TODO:write your answer here (e.g., I will produce value X by transformation Y)*\n",
    "*   > ... add as many steps as you need"
   ]
  },
  {
   "cell_type": "markdown",
   "metadata": {
    "colab_type": "text",
    "id": "zaQ-ACqUfL8S"
   },
   "source": [
    "### Hint\n",
    "1. We want to plot a count of avengers who have returned from their first death. For these avengers, their Return1 value would be equal to 1. Do you need to look at other columns (such as Death1)? \n",
    "2. Do you want to use joinaggregate or aggergate?\n",
    "3. How can you produce a calculated/aggregated value within a group? "
   ]
  },
  {
   "cell_type": "markdown",
   "metadata": {
    "colab_type": "text",
    "id": "3NgcbYQLfKC8"
   },
   "source": [
    "### Step 2: Create your chart. \n",
    "Please paste your FINAL answer to the cell immediately blow this block (it will allow us to grade). You can search for the keyword \"TODO\" to locate cells that need your edits\n"
   ]
  },
  {
   "cell_type": "code",
   "execution_count": null,
   "metadata": {
    "colab": {
     "base_uri": "https://localhost:8080/",
     "height": 435
    },
    "colab_type": "code",
    "id": "uckppo9gP_6A",
    "outputId": "617bbd88-4dda-44b6-aa36-fb462d3260a3"
   },
   "outputs": [],
   "source": [
    "#TODO: vis2\n",
    "# number of avengers who returned from the 1st death, breakdown by years since join \n"
   ]
  },
  {
   "cell_type": "markdown",
   "metadata": {
    "colab_type": "text",
    "id": "slQPTCPyiOIZ"
   },
   "source": [
    "## Visualization 3: Chance of resurrection increases with years in service"
   ]
  },
  {
   "cell_type": "markdown",
   "metadata": {
    "colab_type": "text",
    "id": "ApKYGhoIjO00"
   },
   "source": [
    "![vis1](https://raw.githubusercontent.com/eytanadar/si649public/master/lab4/assets/hw/vis3/1.png)\n",
    "\n",
    "The previous chart displays the number of time that avengers have returned from their first death, broken down by their years since joining. We also want to see how likely it is for them to be resurrected. Therefore, we are going to make a scatter plot with the fraction of avengers resurrected, the years since they've joined, and how many avengers died.\n",
    "\n",
    "\n",
    "**Description of the visualization:**\n",
    "\n",
    "*  a scatterplot\n",
    "*  x-axis plot the number of years that they have joined \n",
    "*  y-axis plot the fraction of avengers that were resurrected, which is double encoded with color\n",
    "  * y-axis uses the label: *Fraction Resurrected*\n",
    "*  circle size encodes the number of avengers who died at least once. \n",
    "* (optional) Tooltips that display the encoded data \n",
    "\n",
    "\n",
    "**Hint:**\n",
    "* Just like the previous chart, you want to produce a count of avengers who have returned after their first death. Do you also need a count of avengers who have died at least one time? \n",
    "* Should you use aggregate or join aggregate?\n",
    "* How can you calculate the fraction of avengers that were resurrected? What is the numerator of the fraction and what is the denominator?\n",
    "\n"
   ]
  },
  {
   "cell_type": "markdown",
   "metadata": {
    "colab_type": "text",
    "id": "5AQx0IcMrj2J"
   },
   "source": [
    "### Step 1: Write down your plan for the visualization (edit this cell)\n",
    "\n",
    "*   Data Name: \n",
    "*   mark type: *TODO:write your answer here (e.g., point or area)*\n",
    "*   Encoding Specification:  \n",
    "*   > x:*TODO:write your answer here (x? y? N? Q? O?)*\n",
    "*   > y: *TODO:write your answer here (x? y? N? Q? O?)*\n",
    "*   Transformation Plan:\n",
    "*   > step 1:*TODO:write your answer here (e.g., I will produce value X by transformation Y)*\n",
    "*   > step 2:*TODO:write your answer here (e.g., I will produce value X by transformation Y)*\n",
    "*   > ... add as many steps as you need"
   ]
  },
  {
   "cell_type": "markdown",
   "metadata": {
    "colab_type": "text",
    "id": "X6rRCqQUr8SX"
   },
   "source": [
    "### Step 2: Create your chart. \n",
    "Please paste your FINAL answer to the cell immediately blow this block (it will allow us to grade). You can search for the keyword \"TODO\" to locate cells that need your edits\n"
   ]
  },
  {
   "cell_type": "code",
   "execution_count": null,
   "metadata": {
    "colab": {
     "base_uri": "https://localhost:8080/",
     "height": 403
    },
    "colab_type": "code",
    "id": "kMWmqAFBgQhd",
    "outputId": "4933eb7f-95d8-421d-cad6-8d36b2d3922e"
   },
   "outputs": [],
   "source": [
    "#TODO vis 3\n",
    "#chance of resurrection and years since joining\n",
    "\n"
   ]
  },
  {
   "cell_type": "markdown",
   "metadata": {
    "colab_type": "text",
    "id": "0F3EmF2It8lE"
   },
   "source": [
    "## Vis 4: Number of avengers who have died at least once, divided by current membership and gender"
   ]
  },
  {
   "cell_type": "markdown",
   "metadata": {
    "colab_type": "text",
    "id": "Ot6pORC8t7ww"
   },
   "source": [
    "![vis1](https://raw.githubusercontent.com/eytanadar/si649public/master/lab4/assets/hw/vis4/1.png)\n",
    "\n",
    "Instead of looking at years since joined, we want to investigate in the relationship between count of avengers who have died at least once and their other properties such as whether they are a current member or not, and gender. \n",
    "\n",
    "\n",
    "\n",
    "**Description of the visualization:**\n",
    "\n",
    "*  a bar chart\n",
    "*  x-axis displays the total number of avengers who have **died at least one time** within an \"age group\"\n",
    "  * x-axis uses the label: *number of avengers who have died at least one time*\n",
    "*  y-axis displays whether they are a current member or not\n",
    "*  use color to display the gender information \n",
    "\n",
    "\n",
    "**Hint:**\n",
    "* Do you want to use joinaggregate or aggregate?\n",
    "\n",
    "\n",
    "\n"
   ]
  },
  {
   "cell_type": "markdown",
   "metadata": {
    "colab_type": "text",
    "id": "osMlRGrpvlNb"
   },
   "source": [
    "### Step 1: Write down your plan for the visualization (edit this cell)\n",
    "\n",
    "*   Data Name: \n",
    "*   mark type: *TODO:write your answer here (e.g., point or area)*\n",
    "*   Encoding Specification:  \n",
    "*   > x:*TODO:write your answer here (x? y? N? Q? O?)*\n",
    "*   > y: *TODO:write your answer here (x? y? N? Q? O?)*\n",
    "*   Transformation Plan:\n",
    "*   > step 1:*TODO:write your answer here (e.g., I will produce value X by transformation Y)*\n",
    "*   > step 2:*TODO:write your answer here (e.g., I will produce value X by transformation Y)*\n",
    "*   > ... add as many steps as you need"
   ]
  },
  {
   "cell_type": "markdown",
   "metadata": {
    "colab_type": "text",
    "id": "stUuz4aYvohI"
   },
   "source": [
    "### Step 2: Create your chart. \n",
    "Please paste your FINAL answer to the cell immediately below this block (it will allow us to grade). You can search for the keyword \"TODO\" to locate cells that need your edits\n"
   ]
  },
  {
   "cell_type": "code",
   "execution_count": null,
   "metadata": {
    "colab": {
     "base_uri": "https://localhost:8080/",
     "height": 129
    },
    "colab_type": "code",
    "id": "IMNUtGvsE4Wa",
    "outputId": "ec84859a-3d7a-4287-be1b-5f445ddd2dcc"
   },
   "outputs": [],
   "source": [
    "#TODO Vis 4\n",
    "  #number of avenger who has died at least once, \n",
    "  #divided by current membership and gender\n"
   ]
  },
  {
   "cell_type": "markdown",
   "metadata": {
    "colab_type": "text",
    "id": "xB52tcGfvt1D"
   },
   "source": [
    "## Submission \n",
    "Once you are done with all the altair-related coding, we want you to embed these charts in an HTML file:\n",
    "1. export these chart specifications to JSON\n",
    "2. embed them into an HTML file. \n",
    "3. If you use multiple files (e.g., HTML + JSON + javascript instead of pasting JSON into the HTML file), make sure you zip the entire folder. \n",
    "\n",
    "The final website will look similar to this:\n",
    "![vis1](https://raw.githubusercontent.com/eytanadar/si649public/master/lab4/assets/hw/export_example.gif)\n",
    "\n",
    "We also want to have a copy of your python script. \n",
    "Please run all cells (Runtime->Run all), and \n",
    "1.  save to PDF (File->Print->Save PDF)\n",
    "2.  save to ipynb \n",
    "\n",
    "Rename all files with your uniqname: e.g.,\n",
    "1. uniqname.pdf\n",
    "2. uniqname.ipynb\n",
    "3. uniquename.zip (html)\n",
    "\n",
    "Upload all files to canvas. \n",
    "*End of Lab 4 Homework*"
   ]
  }
 ],
 "metadata": {
  "colab": {
   "collapsed_sections": [],
   "name": "HW3-altair transformation 1 .ipynb",
   "provenance": []
  },
  "kernelspec": {
   "display_name": "Python 3 (ipykernel)",
   "language": "python",
   "name": "python3"
  },
  "language_info": {
   "codemirror_mode": {
    "name": "ipython",
    "version": 3
   },
   "file_extension": ".py",
   "mimetype": "text/x-python",
   "name": "python",
   "nbconvert_exporter": "python",
   "pygments_lexer": "ipython3",
   "version": "3.10.6"
  }
 },
 "nbformat": 4,
 "nbformat_minor": 1
}
